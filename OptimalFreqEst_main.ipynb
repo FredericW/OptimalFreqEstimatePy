{
 "cells": [
  {
   "cell_type": "code",
   "execution_count": 1,
   "metadata": {},
   "outputs": [
    {
     "name": "stdout",
     "output_type": "stream",
     "text": [
      "synthetic data generated, N=100000.\n",
      "eps= 0.5\n",
      "perturbation pools generated for sw estimator.\n",
      "distribution estimated by sw, repeat 5 times.\n"
     ]
    },
    {
     "name": "stderr",
     "output_type": "stream",
     "text": [
      "c:\\Users\\feiwei\\GitHub\\OptimalFreqEstimatePy\\a3mV2.py:46: OptimizeWarning: A_eq does not appear to be of full row rank. To improve performance, check the problem formulation for redundant equality constraints.\n",
      "  res = linprog(C, A_ub=A_ub, b_ub=b_ub, A_eq = A_eq, b_eq = b_eq, bounds=bounds)\n"
     ]
    },
    {
     "name": "stdout",
     "output_type": "stream",
     "text": [
      "AAA solution found.\n",
      "perturbation pools generated for aaa estimator.\n",
      "estimation complete, repeat 20 times.\n",
      "\n",
      "eps= 1.0\n",
      "perturbation pools generated for sw estimator.\n",
      "distribution estimated by sw, repeat 5 times.\n",
      "AAA solution found.\n",
      "perturbation pools generated for aaa estimator.\n",
      "estimation complete, repeat 20 times.\n",
      "\n",
      "eps= 1.5\n",
      "perturbation pools generated for sw estimator.\n",
      "distribution estimated by sw, repeat 5 times.\n",
      "AAA solution found.\n",
      "perturbation pools generated for aaa estimator.\n",
      "estimation complete, repeat 20 times.\n",
      "\n",
      "eps= 2.0\n",
      "perturbation pools generated for sw estimator.\n",
      "distribution estimated by sw, repeat 5 times.\n",
      "AAA solution found.\n",
      "perturbation pools generated for aaa estimator.\n",
      "estimation complete, repeat 20 times.\n",
      "\n",
      "eps= 2.5\n",
      "perturbation pools generated for sw estimator.\n",
      "distribution estimated by sw, repeat 5 times.\n",
      "AAA solution found.\n",
      "perturbation pools generated for aaa estimator.\n",
      "estimation complete, repeat 20 times.\n",
      "\n",
      "task complete!\n"
     ]
    }
   ],
   "source": [
    "import numpy as np\n",
    "import pandas as pd\n",
    "import synthetic_generate as sg\n",
    "np.set_printoptions(precision=3)\n",
    "\n",
    "# set key parameters\n",
    "d = 10 # num of bins in [low,high]\n",
    "beta = 1\n",
    "data_type = \"GAUSSIAN\"\n",
    "est_type = \"sw\"\n",
    "N=d*10000\n",
    "est_repeat = 5\n",
    "test_repeat = 20\n",
    "\n",
    "# set index of bins\n",
    "bin_width = beta/d\n",
    "bin_idxs = np.linspace(bin_width/2, beta-bin_width/2,d)\n",
    "\n",
    "# generate data\n",
    "data = sg.generate_synthetic_data(data_type=data_type,\n",
    "                                low=-3,\n",
    "                                high=3, \n",
    "                                n=N, \n",
    "                                beta=beta)\n",
    "print(\"synthetic data generated, N=%d.\" %(data.size))\n",
    "\n",
    "# set epsilon\n",
    "eps_grid = 0.5*np.arange(1,6)\n",
    "\n",
    "result = np.zeros((eps_grid.size,4))\n",
    "for i in range(len(eps_grid)):\n",
    "    result[i,:] = sg.DP_dist_estimation(data, \n",
    "                                    bins=d, \n",
    "                                    bin_idxs = bin_idxs,\n",
    "                                    range=(0,beta), \n",
    "                                    est_type='sw', \n",
    "                                    eps=eps_grid[i], \n",
    "                                    est_repeat=est_repeat, \n",
    "                                    test_repeat=test_repeat)\n",
    "    \n",
    "filename = 'data/result_%s_%s_%d_(%d,%d).csv' %(data_type,est_type,d,est_repeat,test_repeat)\n",
    "temp = {'eps_grid': eps_grid, \n",
    "        'var_aaa':result[:,0], \n",
    "        'var_est':result[:,1], \n",
    "        'wass_aaa':result[:,2], \n",
    "        'wass_est':result[:,3]}\n",
    "pd.DataFrame(temp).to_csv(filename)\n",
    "print('task complete!')"
   ]
  }
 ],
 "metadata": {
  "kernelspec": {
   "display_name": "base",
   "language": "python",
   "name": "python3"
  },
  "language_info": {
   "codemirror_mode": {
    "name": "ipython",
    "version": 3
   },
   "file_extension": ".py",
   "mimetype": "text/x-python",
   "name": "python",
   "nbconvert_exporter": "python",
   "pygments_lexer": "ipython3",
   "version": "3.9.12"
  }
 },
 "nbformat": 4,
 "nbformat_minor": 5
}
