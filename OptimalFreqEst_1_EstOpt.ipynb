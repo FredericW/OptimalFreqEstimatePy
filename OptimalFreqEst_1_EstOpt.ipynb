{
 "cells": [
  {
   "cell_type": "code",
   "execution_count": 22,
   "metadata": {},
   "outputs": [
    {
     "name": "stdout",
     "output_type": "stream",
     "text": [
      "distribution= exp estimitor= grr total sample= 1000000.0 total repeat num= 5\n"
     ]
    }
   ],
   "source": [
    "import scipy as sp\n",
    "import numpy as np\n",
    "import pandas as pd\n",
    "import csv\n",
    "d = 10\n",
    "dist_type = \"exp\"\n",
    "est_type = \"grr\"\n",
    "N=1e6\n",
    "total_repeat = 5\n",
    "print(\"distribution=\",dist_type, \"estimitor=\",est_type, \n",
    "      \"total sample=\",N, \"total repeat num=\",total_repeat)"
   ]
  },
  {
   "cell_type": "code",
   "execution_count": 39,
   "id": "61251304",
   "metadata": {},
   "outputs": [
    {
     "name": "stdout",
     "output_type": "stream",
     "text": [
      "[0.  0.1 0.2 0.3 0.4 0.5 0.6 0.7 0.8 0.9]\n",
      "data/x_10.csv saved\n",
      "[0.  0.1 0.2 0.3 0.4 0.5 0.6 0.7 0.8 0.9]\n"
     ]
    }
   ],
   "source": [
    "x_max = 1\n",
    "x_step_size = x_max/d\n",
    "x_grid = x_step_size*np.arange(d)\n",
    "print(x_grid)\n",
    "\n",
    "x_data = {'x': x_grid, 'q':np.zeros(d), 'q_est':np.zeros(d)}\n",
    "\n",
    "\n",
    "\n",
    "\n",
    "filename = \"data/x_%d.csv\" %(d)\n",
    "temp = pd.DataFrame(x_data)\n",
    "temp.to_csv(filename)\n",
    "print(filename, 'saved')\n"
   ]
  }
 ],
 "metadata": {
  "kernelspec": {
   "display_name": "base",
   "language": "python",
   "name": "python3"
  },
  "language_info": {
   "codemirror_mode": {
    "name": "ipython",
    "version": 3
   },
   "file_extension": ".py",
   "mimetype": "text/x-python",
   "name": "python",
   "nbconvert_exporter": "python",
   "pygments_lexer": "ipython3",
   "version": "3.9.12"
  }
 },
 "nbformat": 4,
 "nbformat_minor": 5
}
