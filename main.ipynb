{
 "cells": [
  {
   "cell_type": "code",
   "execution_count": 2,
   "metadata": {},
   "outputs": [
    {
     "ename": "NameError",
     "evalue": "name 'd' is not defined",
     "output_type": "error",
     "traceback": [
      "\u001b[1;31m---------------------------------------------------------------------------\u001b[0m",
      "\u001b[1;31mNameError\u001b[0m                                 Traceback (most recent call last)",
      "\u001b[1;32mc:\\Users\\feiwei\\GitHub\\OptimalFreqEstimatePy\\main.ipynb Cell 1\u001b[0m in \u001b[0;36m<cell line: 7>\u001b[1;34m()\u001b[0m\n\u001b[0;32m      <a href='vscode-notebook-cell:/c%3A/Users/feiwei/GitHub/OptimalFreqEstimatePy/main.ipynb#W0sZmlsZQ%3D%3D?line=2'>3</a>\u001b[0m \u001b[39mimport\u001b[39;00m \u001b[39msynthetic_generate\u001b[39;00m \u001b[39mas\u001b[39;00m \u001b[39msg\u001b[39;00m\n\u001b[0;32m      <a href='vscode-notebook-cell:/c%3A/Users/feiwei/GitHub/OptimalFreqEstimatePy/main.ipynb#W0sZmlsZQ%3D%3D?line=3'>4</a>\u001b[0m np\u001b[39m.\u001b[39mset_printoptions(precision\u001b[39m=\u001b[39m\u001b[39m2\u001b[39m)\n\u001b[0;32m      <a href='vscode-notebook-cell:/c%3A/Users/feiwei/GitHub/OptimalFreqEstimatePy/main.ipynb#W0sZmlsZQ%3D%3D?line=6'>7</a>\u001b[0m \u001b[39mdef\u001b[39;00m \u001b[39mmain\u001b[39m(d\u001b[39m=\u001b[39m\u001b[39m10\u001b[39m, beta\u001b[39m=\u001b[39m\u001b[39m1\u001b[39m, data_type\u001b[39m=\u001b[39m\u001b[39m\"\u001b[39m\u001b[39mGAUSSIAN\u001b[39m\u001b[39m\"\u001b[39m, \n\u001b[1;32m----> <a href='vscode-notebook-cell:/c%3A/Users/feiwei/GitHub/OptimalFreqEstimatePy/main.ipynb#W0sZmlsZQ%3D%3D?line=7'>8</a>\u001b[0m          est_type\u001b[39m=\u001b[39m\u001b[39m\"\u001b[39m\u001b[39msw\u001b[39m\u001b[39m\"\u001b[39m,N\u001b[39m=\u001b[39md\u001b[39m*\u001b[39m\u001b[39m100000\u001b[39m,est_repeat\u001b[39m=\u001b[39m\u001b[39m5\u001b[39m,test_repeat\u001b[39m=\u001b[39m\u001b[39m30\u001b[39m):\n\u001b[0;32m      <a href='vscode-notebook-cell:/c%3A/Users/feiwei/GitHub/OptimalFreqEstimatePy/main.ipynb#W0sZmlsZQ%3D%3D?line=8'>9</a>\u001b[0m \n\u001b[0;32m     <a href='vscode-notebook-cell:/c%3A/Users/feiwei/GitHub/OptimalFreqEstimatePy/main.ipynb#W0sZmlsZQ%3D%3D?line=9'>10</a>\u001b[0m \n\u001b[0;32m     <a href='vscode-notebook-cell:/c%3A/Users/feiwei/GitHub/OptimalFreqEstimatePy/main.ipynb#W0sZmlsZQ%3D%3D?line=10'>11</a>\u001b[0m     \u001b[39m# set index of bins\u001b[39;00m\n\u001b[0;32m     <a href='vscode-notebook-cell:/c%3A/Users/feiwei/GitHub/OptimalFreqEstimatePy/main.ipynb#W0sZmlsZQ%3D%3D?line=11'>12</a>\u001b[0m     bin_width \u001b[39m=\u001b[39m beta\u001b[39m/\u001b[39md\n\u001b[0;32m     <a href='vscode-notebook-cell:/c%3A/Users/feiwei/GitHub/OptimalFreqEstimatePy/main.ipynb#W0sZmlsZQ%3D%3D?line=12'>13</a>\u001b[0m     bin_idxs \u001b[39m=\u001b[39m np\u001b[39m.\u001b[39mlinspace(bin_width\u001b[39m/\u001b[39m\u001b[39m2\u001b[39m, beta\u001b[39m-\u001b[39mbin_width\u001b[39m/\u001b[39m\u001b[39m2\u001b[39m, d)\n",
      "\u001b[1;31mNameError\u001b[0m: name 'd' is not defined"
     ]
    }
   ],
   "source": [
    "import numpy as np\n",
    "import pandas as pd\n",
    "import synthetic_generate as sg\n",
    "np.set_printoptions(precision=2)\n",
    "\n",
    "\n",
    "def main(d=10, beta=1, data_type=\"GAUSSIAN\", est_type=\"sw\",\n",
    "         est_repeat=5,test_repeat=30):\n",
    "\n",
    "    N=d*100000\n",
    "    # set index of bins\n",
    "    bin_width = beta/d\n",
    "    bin_idxs = np.linspace(bin_width/2, beta-bin_width/2, d)\n",
    "\n",
    "\n",
    "    # generate data\n",
    "    data = sg.generate_synthetic_data(data_type=data_type,\n",
    "                                  low=-3,\n",
    "                                  high=3,\n",
    "                                  n=N,\n",
    "                                  beta=beta)\n",
    "    print(\"synthetic data generated, N=%d.\" % (data.size))\n",
    "\n",
    "    # set epsilon\n",
    "    eps_grid = 0.5*np.arange(1, 6)\n",
    "\n",
    "    # computing expected variance and wass distance\n",
    "    result = np.zeros((eps_grid.size, 4))\n",
    "    for i in range(len(eps_grid)):\n",
    "        result[i, :] = sg.DP_dist_estimation(data=data,bins=d,bin_idxs=bin_idxs,\n",
    "                                             range=(0, beta),est_type='sw',\n",
    "                                             eps=eps_grid[i],\n",
    "                                             est_repeat=est_repeat,\n",
    "                                             test_repeat=test_repeat)\n",
    "    # save results\n",
    "    filename = 'data/result_%s_%s_%d_(%d,%d).csv' % (data_type,est_type, d, \n",
    "                                                     est_repeat, test_repeat)\n",
    "    temp = {'eps_grid': eps_grid,\n",
    "        'var_aaa': result[:, 0],\n",
    "        'var_est': result[:, 1],\n",
    "        'wass_aaa': result[:, 2],\n",
    "        'wass_est': result[:, 3]}\n",
    "    pd.DataFrame(temp).to_csv(filename)\n",
    "    print('task complete!')\n",
    "\n",
    "if __name__=='__main__':\n",
    "    main()\n"
   ]
  }
 ],
 "metadata": {
  "kernelspec": {
   "display_name": "base",
   "language": "python",
   "name": "python3"
  },
  "language_info": {
   "codemirror_mode": {
    "name": "ipython",
    "version": 3
   },
   "file_extension": ".py",
   "mimetype": "text/x-python",
   "name": "python",
   "nbconvert_exporter": "python",
   "pygments_lexer": "ipython3",
   "version": "3.9.12"
  }
 },
 "nbformat": 4,
 "nbformat_minor": 5
}
