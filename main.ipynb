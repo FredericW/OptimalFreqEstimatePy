{
 "cells": [
  {
   "cell_type": "code",
   "execution_count": 2,
   "metadata": {},
   "outputs": [
    {
     "name": "stdout",
     "output_type": "stream",
     "text": [
      "synthetic data generated, N=320000.\n"
     ]
    },
    {
     "ename": "NameError",
     "evalue": "name 'n_batch' is not defined",
     "output_type": "error",
     "traceback": [
      "\u001b[1;31m---------------------------------------------------------------------------\u001b[0m",
      "\u001b[1;31mNameError\u001b[0m                                 Traceback (most recent call last)",
      "\u001b[1;32mc:\\Users\\feiwei\\GitHub\\OptimalFreqEstimatePy\\main.ipynb Cell 1\u001b[0m in \u001b[0;36m<cell line: 67>\u001b[1;34m()\u001b[0m\n\u001b[0;32m     <a href='vscode-notebook-cell:/c%3A/Users/feiwei/GitHub/OptimalFreqEstimatePy/main.ipynb#W0sZmlsZQ%3D%3D?line=64'>65</a>\u001b[0m     \u001b[39mreturn\u001b[39;00m temp\n\u001b[0;32m     <a href='vscode-notebook-cell:/c%3A/Users/feiwei/GitHub/OptimalFreqEstimatePy/main.ipynb#W0sZmlsZQ%3D%3D?line=66'>67</a>\u001b[0m \u001b[39mif\u001b[39;00m \u001b[39m__name__\u001b[39m\u001b[39m==\u001b[39m\u001b[39m'\u001b[39m\u001b[39m__main__\u001b[39m\u001b[39m'\u001b[39m:\n\u001b[1;32m---> <a href='vscode-notebook-cell:/c%3A/Users/feiwei/GitHub/OptimalFreqEstimatePy/main.ipynb#W0sZmlsZQ%3D%3D?line=67'>68</a>\u001b[0m     result \u001b[39m=\u001b[39m main()\n",
      "\u001b[1;32mc:\\Users\\feiwei\\GitHub\\OptimalFreqEstimatePy\\main.ipynb Cell 1\u001b[0m in \u001b[0;36mmain\u001b[1;34m()\u001b[0m\n\u001b[0;32m     <a href='vscode-notebook-cell:/c%3A/Users/feiwei/GitHub/OptimalFreqEstimatePy/main.ipynb#W0sZmlsZQ%3D%3D?line=43'>44</a>\u001b[0m     filename \u001b[39m=\u001b[39m \u001b[39m'\u001b[39m\u001b[39mdata/result_\u001b[39m\u001b[39m%s\u001b[39;00m\u001b[39m_\u001b[39m\u001b[39m%s\u001b[39;00m\u001b[39m_\u001b[39m\u001b[39m%d\u001b[39;00m\u001b[39m_(\u001b[39m\u001b[39m%d\u001b[39;00m\u001b[39m,\u001b[39m\u001b[39m%d\u001b[39;00m\u001b[39m).csv\u001b[39m\u001b[39m'\u001b[39m \u001b[39m%\u001b[39m (data_type,\n\u001b[0;32m     <a href='vscode-notebook-cell:/c%3A/Users/feiwei/GitHub/OptimalFreqEstimatePy/main.ipynb#W0sZmlsZQ%3D%3D?line=44'>45</a>\u001b[0m                     est_type, d, est_repeat, total_repeat)\n\u001b[0;32m     <a href='vscode-notebook-cell:/c%3A/Users/feiwei/GitHub/OptimalFreqEstimatePy/main.ipynb#W0sZmlsZQ%3D%3D?line=45'>46</a>\u001b[0m \u001b[39melif\u001b[39;00m test_type\u001b[39m==\u001b[39m\u001b[39m'\u001b[39m\u001b[39mportions\u001b[39m\u001b[39m'\u001b[39m:\n\u001b[0;32m     <a href='vscode-notebook-cell:/c%3A/Users/feiwei/GitHub/OptimalFreqEstimatePy/main.ipynb#W0sZmlsZQ%3D%3D?line=46'>47</a>\u001b[0m \u001b[39m# we take a portion of the samples to estimate the histo\u001b[39;00m\n\u001b[0;32m     <a href='vscode-notebook-cell:/c%3A/Users/feiwei/GitHub/OptimalFreqEstimatePy/main.ipynb#W0sZmlsZQ%3D%3D?line=47'>48</a>\u001b[0m \u001b[39m# then find AAA and estimate the rest\u001b[39;00m\n\u001b[0;32m     <a href='vscode-notebook-cell:/c%3A/Users/feiwei/GitHub/OptimalFreqEstimatePy/main.ipynb#W0sZmlsZQ%3D%3D?line=48'>49</a>\u001b[0m     result[i,:] \u001b[39m=\u001b[39m sg\u001b[39m.\u001b[39mDP_dist_estimation_portions(data,\n\u001b[0;32m     <a href='vscode-notebook-cell:/c%3A/Users/feiwei/GitHub/OptimalFreqEstimatePy/main.ipynb#W0sZmlsZQ%3D%3D?line=49'>50</a>\u001b[0m         bins\u001b[39m=\u001b[39md,bin_idxs\u001b[39m=\u001b[39mbin_idxs,\u001b[39mrange\u001b[39m\u001b[39m=\u001b[39m(\u001b[39m0\u001b[39m, beta),\n\u001b[0;32m     <a href='vscode-notebook-cell:/c%3A/Users/feiwei/GitHub/OptimalFreqEstimatePy/main.ipynb#W0sZmlsZQ%3D%3D?line=50'>51</a>\u001b[0m         est_type\u001b[39m=\u001b[39mest_type,eps\u001b[39m=\u001b[39meps_grid[i],\n\u001b[1;32m---> <a href='vscode-notebook-cell:/c%3A/Users/feiwei/GitHub/OptimalFreqEstimatePy/main.ipynb#W0sZmlsZQ%3D%3D?line=51'>52</a>\u001b[0m         repeat\u001b[39m=\u001b[39mtotal_repeat,portion \u001b[39m=\u001b[39m portion, n_batch \u001b[39m=\u001b[39m n_batch)\n\u001b[0;32m     <a href='vscode-notebook-cell:/c%3A/Users/feiwei/GitHub/OptimalFreqEstimatePy/main.ipynb#W0sZmlsZQ%3D%3D?line=52'>53</a>\u001b[0m     filename \u001b[39m=\u001b[39m \u001b[39m'\u001b[39m\u001b[39mdata/result_\u001b[39m\u001b[39m%s\u001b[39;00m\u001b[39m_\u001b[39m\u001b[39m%s\u001b[39;00m\u001b[39m_\u001b[39m\u001b[39m%d\u001b[39;00m\u001b[39m_(\u001b[39m\u001b[39m%.2f\u001b[39;00m\u001b[39m,\u001b[39m\u001b[39m%d\u001b[39;00m\u001b[39m)_\u001b[39m\u001b[39m%s\u001b[39;00m\u001b[39m.csv\u001b[39m\u001b[39m'\u001b[39m \u001b[39m%\u001b[39m (data_type,\n\u001b[0;32m     <a href='vscode-notebook-cell:/c%3A/Users/feiwei/GitHub/OptimalFreqEstimatePy/main.ipynb#W0sZmlsZQ%3D%3D?line=53'>54</a>\u001b[0m                     est_type, d, portion, total_repeat,test_type)\n\u001b[0;32m     <a href='vscode-notebook-cell:/c%3A/Users/feiwei/GitHub/OptimalFreqEstimatePy/main.ipynb#W0sZmlsZQ%3D%3D?line=54'>55</a>\u001b[0m \u001b[39melse\u001b[39;00m:\n",
      "\u001b[1;31mNameError\u001b[0m: name 'n_batch' is not defined"
     ]
    }
   ],
   "source": [
    "import numpy as np\n",
    "import pandas as pd\n",
    "import math\n",
    "import synthetic_generate as sg\n",
    "np.set_printoptions(precision=2)\n",
    "\n",
    "\n",
    "def main():\n",
    "    data_type=\"EXPONENTIAL\" \n",
    "    d = 16\n",
    "    est_type=\"sw\"\n",
    "    test_type='portions'\n",
    "    # we take a number of rounds to estimate the histo\n",
    "        # then find AAA and estimate histo, repeat for test_repeat times\n",
    "    # we take a portion of the samples to estimate the histo\n",
    "        # then find AAA and estimate the rest    \n",
    "    total_repeat=50\n",
    "    portion = 0.5\n",
    "    if portion>1:\n",
    "        raise NotImplementedError('check your portion setting!')\n",
    "\n",
    "    N=math.ceil(d*10000/portion)\n",
    "    beta = 1\n",
    "    low,high = -3, 3\n",
    "    # set index of bins\n",
    "    bin_width = beta/d\n",
    "    bin_idxs = np.linspace(bin_width/2, beta-bin_width/2, d)\n",
    "\n",
    "\n",
    "    # generate data\n",
    "    data = sg.generate_synthetic_data(data_type=data_type,\n",
    "            low=low,high=high,n=N,beta=beta)\n",
    "    print(\"synthetic data generated, N=%d.\" % (data.size))\n",
    "\n",
    "    # set epsilon\n",
    "    eps_grid = np.linspace(0.5,2.5,5)\n",
    "\n",
    "    result = np.zeros((eps_grid.size, 4))\n",
    "    for i in range(len(eps_grid)):\n",
    "        result[i,:] = sg.DP_dist_estimation(data,\n",
    "            bins=d,bin_idxs=bin_idxs,range=(0, beta),\n",
    "            est_type=est_type,eps=eps_grid[i],\n",
    "            test_type=test_type, repeat=total_repeat,portion=portion)\n",
    "        filename = 'data/result_%s_%s_%d_%s(%.2f,%d).csv' % (data_type,\n",
    "                        est_type, d,test_type, portion, total_repeat)\n",
    "\n",
    "    temp = {'eps_grid': eps_grid,\n",
    "        'var_aaa': result[:, 0],\n",
    "        'var_est': result[:, 1],\n",
    "        'wass_aaa': result[:, 2],\n",
    "        'wass_est': result[:, 3]}\n",
    "    pd.DataFrame(temp).to_csv(filename)\n",
    "    print('task complete!')\n",
    "    return temp\n",
    "\n",
    "if __name__=='__main__':\n",
    "    result = main()\n"
   ]
  }
 ],
 "metadata": {
  "kernelspec": {
   "display_name": "base",
   "language": "python",
   "name": "python3"
  },
  "language_info": {
   "codemirror_mode": {
    "name": "ipython",
    "version": 3
   },
   "file_extension": ".py",
   "mimetype": "text/x-python",
   "name": "python",
   "nbconvert_exporter": "python",
   "pygments_lexer": "ipython3",
   "version": "3.9.12"
  }
 },
 "nbformat": 4,
 "nbformat_minor": 5
}
