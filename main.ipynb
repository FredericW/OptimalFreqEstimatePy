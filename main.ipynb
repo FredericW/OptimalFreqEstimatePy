{
 "cells": [
  {
   "cell_type": "code",
   "execution_count": 3,
   "metadata": {},
   "outputs": [
    {
     "name": "stdout",
     "output_type": "stream",
     "text": [
      "synthetic data generated, N=100000.\n",
      "eps= 0.5\n",
      "AAA solution found!\n",
      "eps= 1.0\n",
      "AAA solution found!\n",
      "eps= 1.5\n",
      "AAA solution found!\n",
      "eps= 2.0\n",
      "AAA solution found!\n",
      "eps= 2.5\n",
      "AAA solution found!\n",
      "task complete!\n"
     ]
    }
   ],
   "source": [
    "import numpy as np\n",
    "import pandas as pd\n",
    "import synthetic_generate as sg\n",
    "np.set_printoptions(precision=2)\n",
    "\n",
    "\n",
    "def main(data_type=\"GAUSSIAN\", est_type=\"grr\",\n",
    "         d=10,est_repeat=10,total_repeat=100):\n",
    "    N=100000\n",
    "    beta = 1\n",
    "    low,high = -3, 3\n",
    "    test_repeat = total_repeat-est_repeat\n",
    "    # set index of bins\n",
    "    bin_width = beta/d\n",
    "    bin_idxs = np.linspace(bin_width/2, beta-bin_width/2, d)\n",
    "\n",
    "\n",
    "    # generate data\n",
    "    data = sg.generate_synthetic_data(data_type=data_type,\n",
    "                                  low=low,\n",
    "                                  high=high,\n",
    "                                  n=N,\n",
    "                                  beta=beta)\n",
    "    print(\"synthetic data generated, N=%d.\" % (data.size))\n",
    "\n",
    "    # set epsilon\n",
    "    eps_grid = 0.5*np.arange(1, 6)\n",
    "\n",
    "    result = np.zeros((eps_grid.size, 4))\n",
    "    for i in range(len(eps_grid)):\n",
    "        result[i,:] = sg.DP_dist_estimation(data,\n",
    "                                     bins=d,\n",
    "                                     bin_idxs=bin_idxs,\n",
    "                                     range=(0, beta),\n",
    "                                     est_type='sw',\n",
    "                                     eps=eps_grid[i],\n",
    "                                     est_repeat=est_repeat,\n",
    "                                     test_repeat=test_repeat)\n",
    "\n",
    "    filename = 'data/result_%s_%s_%d_(%d,%d).csv' % (data_type,\n",
    "                                                 est_type, d, est_repeat, total_repeat)\n",
    "    temp = {'eps_grid': eps_grid,\n",
    "        'var_aaa': result[:, 0],\n",
    "        'var_est': result[:, 1],\n",
    "        'wass_aaa': result[:, 2],\n",
    "        'wass_est': result[:, 3]}\n",
    "    pd.DataFrame(temp).to_csv(filename)\n",
    "    print('task complete!')\n",
    "    return temp\n",
    "\n",
    "if __name__=='__main__':\n",
    "    result = main()\n"
   ]
  },
  {
   "cell_type": "code",
   "execution_count": null,
   "id": "9a4dec03",
   "metadata": {},
   "outputs": [],
   "source": []
  }
 ],
 "metadata": {
  "kernelspec": {
   "display_name": "base",
   "language": "python",
   "name": "python3"
  },
  "language_info": {
   "codemirror_mode": {
    "name": "ipython",
    "version": 3
   },
   "file_extension": ".py",
   "mimetype": "text/x-python",
   "name": "python",
   "nbconvert_exporter": "python",
   "pygments_lexer": "ipython3",
   "version": "3.9.12"
  }
 },
 "nbformat": 4,
 "nbformat_minor": 5
}
