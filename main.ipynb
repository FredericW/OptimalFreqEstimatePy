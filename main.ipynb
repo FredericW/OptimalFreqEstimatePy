{
 "cells": [
  {
   "cell_type": "code",
   "execution_count": 5,
   "metadata": {},
   "outputs": [
    {
     "name": "stdout",
     "output_type": "stream",
     "text": [
      "synthetic data generated, N=100000.\n",
      "computing for eps= 0.5\n",
      "intitial estimation with sw complete, repeat=100.\n"
     ]
    }
   ],
   "source": [
    "import numpy as np\n",
    "import pandas as pd\n",
    "import math\n",
    "import synthetic_generate as sg\n",
    "np.set_printoptions(precision=2)\n",
    "\n",
    "\n",
    "def main():\n",
    "    data_type=\"EXPONENTIAL\" \n",
    "    d = 16\n",
    "    est_type=\"sw\"\n",
    "    test_type='portions'\n",
    "    repeat=100\n",
    "    portion = 0.2\n",
    "\n",
    "    N=d*10000\n",
    "    beta = 1\n",
    "    low,high = -3, 3\n",
    "    # set index of bins\n",
    "    bin_width = beta/d\n",
    "    bin_idxs = np.linspace(bin_width/2, beta-bin_width/2, d)\n",
    "\n",
    "\n",
    "    # generate data\n",
    "    data = sg.generate_synthetic_data(data_type=data_type,\n",
    "            low=low,high=high,n=N,beta=beta)\n",
    "    print(\"synthetic data generated, N=%d.\" % (data.size))\n",
    "\n",
    "    # set epsilon\n",
    "    eps_grid = np.linspace(0.5,2.5,5)\n",
    "\n",
    "    result = np.zeros((eps_grid.size, 4))\n",
    "    for i in range(len(eps_grid)):\n",
    "        result[i,:] = sg.DP_dist_estimation(data,\n",
    "            bins=d,bin_idxs=bin_idxs,range=(0, beta),\n",
    "            est_type=est_type,eps=eps_grid[i],\n",
    "            test_type=test_type, repeat=repeat,portion=portion)\n",
    "        filename = 'data/result_%s_%s_%d_%s(%.2f,%d).csv' % (data_type,\n",
    "                        est_type, d, test_type, portion, repeat)\n",
    "\n",
    "    temp = {'eps_grid': eps_grid,\n",
    "        'var_aaa': result[:, 0],\n",
    "        'var_est': result[:, 1],\n",
    "        'wass_aaa': result[:, 2],\n",
    "        'wass_est': result[:, 3]}\n",
    "    pd.DataFrame(temp).to_csv(filename)\n",
    "    print('task complete!')\n",
    "    return temp\n",
    "\n",
    "if __name__=='__main__':\n",
    "    result = main()\n"
   ]
  }
 ],
 "metadata": {
  "kernelspec": {
   "display_name": "base",
   "language": "python",
   "name": "python3"
  },
  "language_info": {
   "codemirror_mode": {
    "name": "ipython",
    "version": 3
   },
   "file_extension": ".py",
   "mimetype": "text/x-python",
   "name": "python",
   "nbconvert_exporter": "python",
   "pygments_lexer": "ipython3",
   "version": "3.9.12"
  }
 },
 "nbformat": 4,
 "nbformat_minor": 5
}
