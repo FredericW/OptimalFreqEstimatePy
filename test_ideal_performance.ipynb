{
 "cells": [
  {
   "cell_type": "code",
   "execution_count": 2,
   "id": "e01b72cf",
   "metadata": {},
   "outputs": [
    {
     "name": "stdout",
     "output_type": "stream",
     "text": [
      "synthetic data generated, N=10000.\n",
      "\n",
      "==== eps=0.50, repeat=50 ====\n"
     ]
    },
    {
     "ename": "ValueError",
     "evalue": "operands could not be broadcast together with shapes (1,64) (10,) (1,64) ",
     "output_type": "error",
     "traceback": [
      "\u001b[0;31m---------------------------------------------------------------------------\u001b[0m",
      "\u001b[0;31mValueError\u001b[0m                                Traceback (most recent call last)",
      "\u001b[1;32m/Users/weifei/GitHub/OptimalFreqEstimatePy/test_ideal_performance.ipynb Cell 1\u001b[0m line \u001b[0;36m6\n\u001b[1;32m     <a href='vscode-notebook-cell:/Users/weifei/GitHub/OptimalFreqEstimatePy/test_ideal_performance.ipynb#W0sZmlsZQ%3D%3D?line=57'>58</a>\u001b[0m     \u001b[39mreturn\u001b[39;00m temp\n\u001b[1;32m     <a href='vscode-notebook-cell:/Users/weifei/GitHub/OptimalFreqEstimatePy/test_ideal_performance.ipynb#W0sZmlsZQ%3D%3D?line=59'>60</a>\u001b[0m \u001b[39mif\u001b[39;00m \u001b[39m__name__\u001b[39m\u001b[39m==\u001b[39m\u001b[39m'\u001b[39m\u001b[39m__main__\u001b[39m\u001b[39m'\u001b[39m:\n\u001b[0;32m---> <a href='vscode-notebook-cell:/Users/weifei/GitHub/OptimalFreqEstimatePy/test_ideal_performance.ipynb#W0sZmlsZQ%3D%3D?line=60'>61</a>\u001b[0m     result \u001b[39m=\u001b[39m main()\n",
      "\u001b[1;32m/Users/weifei/GitHub/OptimalFreqEstimatePy/test_ideal_performance.ipynb Cell 1\u001b[0m line \u001b[0;36m4\n\u001b[1;32m     <a href='vscode-notebook-cell:/Users/weifei/GitHub/OptimalFreqEstimatePy/test_ideal_performance.ipynb#W0sZmlsZQ%3D%3D?line=34'>35</a>\u001b[0m \u001b[39mprint\u001b[39m(\u001b[39m'\u001b[39m\u001b[39m\\n\u001b[39;00m\u001b[39m==== eps=\u001b[39m\u001b[39m%.2f\u001b[39;00m\u001b[39m, repeat=\u001b[39m\u001b[39m%d\u001b[39;00m\u001b[39m ====\u001b[39m\u001b[39m'\u001b[39m \u001b[39m%\u001b[39m(eps_grid[i],repeat))\n\u001b[1;32m     <a href='vscode-notebook-cell:/Users/weifei/GitHub/OptimalFreqEstimatePy/test_ideal_performance.ipynb#W0sZmlsZQ%3D%3D?line=36'>37</a>\u001b[0m \u001b[39m# _,_,q_est = sg.DP_dist_estimation(histo_true=histo_true,bin_idxs=bin_idxs,\u001b[39;00m\n\u001b[1;32m     <a href='vscode-notebook-cell:/Users/weifei/GitHub/OptimalFreqEstimatePy/test_ideal_performance.ipynb#W0sZmlsZQ%3D%3D?line=37'>38</a>\u001b[0m \u001b[39m#     est_type=est_type,eps=eps_grid[i]*ratio, repeat=repeat_est,q_est=q_true)\u001b[39;00m\n\u001b[1;32m     <a href='vscode-notebook-cell:/Users/weifei/GitHub/OptimalFreqEstimatePy/test_ideal_performance.ipynb#W0sZmlsZQ%3D%3D?line=38'>39</a>\u001b[0m \u001b[39m# print('initial estimation complete, eps=%.2f' \u001b[39;00m\n\u001b[1;32m     <a href='vscode-notebook-cell:/Users/weifei/GitHub/OptimalFreqEstimatePy/test_ideal_performance.ipynb#W0sZmlsZQ%3D%3D?line=39'>40</a>\u001b[0m \u001b[39m#       %(eps_grid[i]*ratio))\u001b[39;00m\n\u001b[0;32m---> <a href='vscode-notebook-cell:/Users/weifei/GitHub/OptimalFreqEstimatePy/test_ideal_performance.ipynb#W0sZmlsZQ%3D%3D?line=41'>42</a>\u001b[0m result[i,\u001b[39m0\u001b[39m],result[i,\u001b[39m1\u001b[39m],_ \u001b[39m=\u001b[39m sg\u001b[39m.\u001b[39mDP_dist_estimation(data\u001b[39m=\u001b[39mdata, bin_max\u001b[39m=\u001b[39mbeta, d_est\u001b[39m=\u001b[39md_est, d_test\u001b[39m=\u001b[39md_test, est_type\u001b[39m=\u001b[39m\u001b[39m'\u001b[39m\u001b[39maaa\u001b[39m\u001b[39m'\u001b[39m,\n\u001b[1;32m     <a href='vscode-notebook-cell:/Users/weifei/GitHub/OptimalFreqEstimatePy/test_ideal_performance.ipynb#W0sZmlsZQ%3D%3D?line=42'>43</a>\u001b[0m                                                    eps\u001b[39m=\u001b[39meps_grid[i], repeat\u001b[39m=\u001b[39mrepeat_est, q_est\u001b[39m=\u001b[39mq_true_est)\n\u001b[1;32m     <a href='vscode-notebook-cell:/Users/weifei/GitHub/OptimalFreqEstimatePy/test_ideal_performance.ipynb#W0sZmlsZQ%3D%3D?line=43'>44</a>\u001b[0m \u001b[39mprint\u001b[39m(\u001b[39m'\u001b[39m\u001b[39maaa estimation complete\u001b[39m\u001b[39m'\u001b[39m)\n\u001b[1;32m     <a href='vscode-notebook-cell:/Users/weifei/GitHub/OptimalFreqEstimatePy/test_ideal_performance.ipynb#W0sZmlsZQ%3D%3D?line=45'>46</a>\u001b[0m \u001b[39m# result[i,2],result[i,3],_ = sg.DP_dist_estimation(data=data, bin_max=beta, d_est=d_test, d_test=d_test, est_type='sw',\u001b[39;00m\n\u001b[1;32m     <a href='vscode-notebook-cell:/Users/weifei/GitHub/OptimalFreqEstimatePy/test_ideal_performance.ipynb#W0sZmlsZQ%3D%3D?line=46'>47</a>\u001b[0m \u001b[39m#                                                    eps=eps_grid[i], repeat=repeat_est, q_est=q_true_est)\u001b[39;00m\n\u001b[1;32m     <a href='vscode-notebook-cell:/Users/weifei/GitHub/OptimalFreqEstimatePy/test_ideal_performance.ipynb#W0sZmlsZQ%3D%3D?line=47'>48</a>\u001b[0m \u001b[39m# print('%s estimation complete')\u001b[39;00m\n",
      "File \u001b[0;32m~/GitHub/OptimalFreqEstimatePy/synthetic_generate.py:108\u001b[0m, in \u001b[0;36mDP_dist_estimation\u001b[0;34m(data, bin_max, d_est, d_test, est_type, eps, repeat, q_est)\u001b[0m\n\u001b[1;32m    106\u001b[0m     \u001b[39melse\u001b[39;00m:\n\u001b[1;32m    107\u001b[0m         temp \u001b[39m=\u001b[39m hist_perturbed\u001b[39m/\u001b[39mdata_perturbed\u001b[39m.\u001b[39msize\n\u001b[0;32m--> 108\u001b[0m     q_est \u001b[39m+\u001b[39m\u001b[39m=\u001b[39mtemp\n\u001b[1;32m    109\u001b[0m     wass_est \u001b[39m+\u001b[39m\u001b[39m=\u001b[39m utilities\u001b[39m.\u001b[39mwass_dist(temp,q_true)\n\u001b[1;32m    110\u001b[0m q_est \u001b[39m=\u001b[39m q_est\u001b[39m/\u001b[39mrepeat\n",
      "\u001b[0;31mValueError\u001b[0m: operands could not be broadcast together with shapes (1,64) (10,) (1,64) "
     ]
    }
   ],
   "source": [
    "import numpy as np\n",
    "import pandas as pd\n",
    "import math\n",
    "import synthetic_generate as sg\n",
    "np.set_printoptions(precision=2)\n",
    "\n",
    "\n",
    "def main():\n",
    "    data_type=\"GAUSSIAN\" \n",
    "    d_est=10\n",
    "    d_test=64\n",
    "    est_type=\"sw\"\n",
    "    repeat=50\n",
    "    repeat_est=repeat\n",
    "    N=10000\n",
    "    low,high = -3, 3\n",
    "    # set index of bins\n",
    "    beta = 1\n",
    "\n",
    "    # generate data\n",
    "    data = sg.generate_synthetic_data(data_type=data_type,\n",
    "            low=low,high=high,n=N,beta=beta)\n",
    "    \n",
    "    histo_true_est,_ = np.histogram(a=data, range=(0,beta), bins=d_est)\n",
    "    q_true_est = np.reshape(histo_true_est/np.sum(histo_true_est),(1,d_est))\n",
    "    \n",
    "    print(\"synthetic data generated, N=%d.\" % (data.size))\n",
    "\n",
    "    # set epsilon\n",
    "    eps_grid = np.linspace(0.5,2.5,5)\n",
    "\n",
    "    result = np.zeros((eps_grid.size, 4))\n",
    "    for i in range(len(eps_grid)):\n",
    "\n",
    "        print('\\n==== eps=%.2f, repeat=%d ====' %(eps_grid[i],repeat))\n",
    "        \n",
    "        # _,_,q_est = sg.DP_dist_estimation(histo_true=histo_true,bin_idxs=bin_idxs,\n",
    "        #     est_type=est_type,eps=eps_grid[i]*ratio, repeat=repeat_est,q_est=q_true)\n",
    "        # print('initial estimation complete, eps=%.2f' \n",
    "        #       %(eps_grid[i]*ratio))\n",
    "\n",
    "        result[i,0],result[i,1],_ = sg.DP_dist_estimation_aaa(data=data, bin_max=beta, d_est=d_est, d_test=d_test, \n",
    "                                                              eps=eps_grid[i], repeat=repeat_est, q_est=q_true_est)\n",
    "        print('aaa estimation complete')\n",
    "        \n",
    "        result[i,2],result[i,3],_ = sg.DP_dist_estimation(data=data, bin_max=beta, d_est=d_test,est_type='sw',\n",
    "                                                          eps=eps_grid[i], repeat=repeat_est)\n",
    "        print('%s estimation complete')\n",
    "    \n",
    "    filename = 'data/result_%s_%s_%d_%d(%d).csv' % (data_type, est_type, d_est,d_test, repeat)\n",
    "    temp = {'eps_grid': eps_grid,\n",
    "        'mse_aaa': result[:, 0],\n",
    "        'wass_aaa': result[:, 1],\n",
    "        'mse_est': result[:, 2],\n",
    "        'wass_est': result[:, 3]}\n",
    "    pd.DataFrame(temp).to_csv(filename)\n",
    "    print('task complete!')\n",
    "    return temp\n",
    "\n",
    "if __name__=='__main__':\n",
    "    result = main()\n"
   ]
  }
 ],
 "metadata": {
  "kernelspec": {
   "display_name": "base",
   "language": "python",
   "name": "python3"
  },
  "language_info": {
   "codemirror_mode": {
    "name": "ipython",
    "version": 3
   },
   "file_extension": ".py",
   "mimetype": "text/x-python",
   "name": "python",
   "nbconvert_exporter": "python",
   "pygments_lexer": "ipython3",
   "version": "3.11.3"
  }
 },
 "nbformat": 4,
 "nbformat_minor": 5
}
