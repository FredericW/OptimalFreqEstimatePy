{
 "cells": [
  {
   "cell_type": "code",
   "execution_count": 4,
   "id": "e01b72cf",
   "metadata": {},
   "outputs": [
    {
     "name": "stdout",
     "output_type": "stream",
     "text": [
      "synthetic data generated, N=10000.\n",
      "\n",
      "==== eps=0.50, repeat=50 ====\n"
     ]
    },
    {
     "ename": "MemoryError",
     "evalue": "Unable to allocate 5.46 GiB for an array with shape (27059, 27059) and data type float64",
     "output_type": "error",
     "traceback": [
      "\u001b[1;31m---------------------------------------------------------------------------\u001b[0m",
      "\u001b[1;31mMemoryError\u001b[0m                               Traceback (most recent call last)",
      "\u001b[1;32mc:\\Users\\feiwei\\GitHub\\OptimalFreqEstimatePy\\test_ideal_performance.ipynb Cell 1\u001b[0m line \u001b[0;36m<cell line: 65>\u001b[1;34m()\u001b[0m\n\u001b[0;32m     <a href='vscode-notebook-cell:/c%3A/Users/feiwei/GitHub/OptimalFreqEstimatePy/test_ideal_performance.ipynb#W1sZmlsZQ%3D%3D?line=62'>63</a>\u001b[0m     \u001b[39mreturn\u001b[39;00m temp\n\u001b[0;32m     <a href='vscode-notebook-cell:/c%3A/Users/feiwei/GitHub/OptimalFreqEstimatePy/test_ideal_performance.ipynb#W1sZmlsZQ%3D%3D?line=64'>65</a>\u001b[0m \u001b[39mif\u001b[39;00m \u001b[39m__name__\u001b[39m\u001b[39m==\u001b[39m\u001b[39m'\u001b[39m\u001b[39m__main__\u001b[39m\u001b[39m'\u001b[39m:\n\u001b[1;32m---> <a href='vscode-notebook-cell:/c%3A/Users/feiwei/GitHub/OptimalFreqEstimatePy/test_ideal_performance.ipynb#W1sZmlsZQ%3D%3D?line=65'>66</a>\u001b[0m     result \u001b[39m=\u001b[39m main()\n",
      "\u001b[1;32mc:\\Users\\feiwei\\GitHub\\OptimalFreqEstimatePy\\test_ideal_performance.ipynb Cell 1\u001b[0m line \u001b[0;36mmain\u001b[1;34m()\u001b[0m\n\u001b[0;32m     <a href='vscode-notebook-cell:/c%3A/Users/feiwei/GitHub/OptimalFreqEstimatePy/test_ideal_performance.ipynb#W1sZmlsZQ%3D%3D?line=34'>35</a>\u001b[0m \u001b[39mprint\u001b[39m(\u001b[39m'\u001b[39m\u001b[39m\\n\u001b[39;00m\u001b[39m==== eps=\u001b[39m\u001b[39m%.2f\u001b[39;00m\u001b[39m, repeat=\u001b[39m\u001b[39m%d\u001b[39;00m\u001b[39m ====\u001b[39m\u001b[39m'\u001b[39m \u001b[39m%\u001b[39m(eps_grid[i],repeat))\n\u001b[0;32m     <a href='vscode-notebook-cell:/c%3A/Users/feiwei/GitHub/OptimalFreqEstimatePy/test_ideal_performance.ipynb#W1sZmlsZQ%3D%3D?line=36'>37</a>\u001b[0m \u001b[39m# _,_,q_est = sg.DP_dist_estimation(histo_true=histo_true,bin_idxs=bin_idxs,\u001b[39;00m\n\u001b[0;32m     <a href='vscode-notebook-cell:/c%3A/Users/feiwei/GitHub/OptimalFreqEstimatePy/test_ideal_performance.ipynb#W1sZmlsZQ%3D%3D?line=37'>38</a>\u001b[0m \u001b[39m#     est_type=est_type,eps=eps_grid[i]*ratio, repeat=repeat_est,q_est=q_true)\u001b[39;00m\n\u001b[0;32m     <a href='vscode-notebook-cell:/c%3A/Users/feiwei/GitHub/OptimalFreqEstimatePy/test_ideal_performance.ipynb#W1sZmlsZQ%3D%3D?line=38'>39</a>\u001b[0m \u001b[39m# print('initial estimation complete, eps=%.2f' \u001b[39;00m\n\u001b[0;32m     <a href='vscode-notebook-cell:/c%3A/Users/feiwei/GitHub/OptimalFreqEstimatePy/test_ideal_performance.ipynb#W1sZmlsZQ%3D%3D?line=39'>40</a>\u001b[0m \u001b[39m#       %(eps_grid[i]*ratio))\u001b[39;00m\n\u001b[1;32m---> <a href='vscode-notebook-cell:/c%3A/Users/feiwei/GitHub/OptimalFreqEstimatePy/test_ideal_performance.ipynb#W1sZmlsZQ%3D%3D?line=41'>42</a>\u001b[0m result[i,\u001b[39m0\u001b[39m],result[i,\u001b[39m1\u001b[39m],_ \u001b[39m=\u001b[39m sg\u001b[39m.\u001b[39;49mDP_dist_estimation(\n\u001b[0;32m     <a href='vscode-notebook-cell:/c%3A/Users/feiwei/GitHub/OptimalFreqEstimatePy/test_ideal_performance.ipynb#W1sZmlsZQ%3D%3D?line=42'>43</a>\u001b[0m     histo_true\u001b[39m=\u001b[39;49mhisto_true, bin_idxs\u001b[39m=\u001b[39;49mbin_idxs,\n\u001b[0;32m     <a href='vscode-notebook-cell:/c%3A/Users/feiwei/GitHub/OptimalFreqEstimatePy/test_ideal_performance.ipynb#W1sZmlsZQ%3D%3D?line=43'>44</a>\u001b[0m     est_type\u001b[39m=\u001b[39;49m\u001b[39m'\u001b[39;49m\u001b[39maaa\u001b[39;49m\u001b[39m'\u001b[39;49m, eps\u001b[39m=\u001b[39;49meps_grid[i]\u001b[39m*\u001b[39;49m(\u001b[39m1\u001b[39;49m\u001b[39m-\u001b[39;49mratio),\n\u001b[0;32m     <a href='vscode-notebook-cell:/c%3A/Users/feiwei/GitHub/OptimalFreqEstimatePy/test_ideal_performance.ipynb#W1sZmlsZQ%3D%3D?line=44'>45</a>\u001b[0m     repeat\u001b[39m=\u001b[39;49mrepeat, q_est \u001b[39m=\u001b[39;49m q_true)\n\u001b[0;32m     <a href='vscode-notebook-cell:/c%3A/Users/feiwei/GitHub/OptimalFreqEstimatePy/test_ideal_performance.ipynb#W1sZmlsZQ%3D%3D?line=45'>46</a>\u001b[0m \u001b[39mprint\u001b[39m(\u001b[39m'\u001b[39m\u001b[39maaa estimation complete\u001b[39m\u001b[39m'\u001b[39m)\n\u001b[0;32m     <a href='vscode-notebook-cell:/c%3A/Users/feiwei/GitHub/OptimalFreqEstimatePy/test_ideal_performance.ipynb#W1sZmlsZQ%3D%3D?line=47'>48</a>\u001b[0m result[i,\u001b[39m2\u001b[39m],result[i,\u001b[39m3\u001b[39m],_ \u001b[39m=\u001b[39m sg\u001b[39m.\u001b[39mDP_dist_estimation(\n\u001b[0;32m     <a href='vscode-notebook-cell:/c%3A/Users/feiwei/GitHub/OptimalFreqEstimatePy/test_ideal_performance.ipynb#W1sZmlsZQ%3D%3D?line=48'>49</a>\u001b[0m     histo_true\u001b[39m=\u001b[39mhisto_true, bin_idxs\u001b[39m=\u001b[39mbin_idxs,\n\u001b[0;32m     <a href='vscode-notebook-cell:/c%3A/Users/feiwei/GitHub/OptimalFreqEstimatePy/test_ideal_performance.ipynb#W1sZmlsZQ%3D%3D?line=49'>50</a>\u001b[0m     est_type\u001b[39m=\u001b[39mest_type, eps\u001b[39m=\u001b[39meps_grid[i],\n\u001b[0;32m     <a href='vscode-notebook-cell:/c%3A/Users/feiwei/GitHub/OptimalFreqEstimatePy/test_ideal_performance.ipynb#W1sZmlsZQ%3D%3D?line=50'>51</a>\u001b[0m     repeat\u001b[39m=\u001b[39mrepeat, q_est\u001b[39m=\u001b[39mq_true)\n",
      "File \u001b[1;32mc:\\Users\\feiwei\\GitHub\\OptimalFreqEstimatePy\\synthetic_generate.py:68\u001b[0m, in \u001b[0;36mDP_dist_estimation\u001b[1;34m(histo_true, bin_idxs, est_type, eps, repeat, q_est)\u001b[0m\n\u001b[0;32m     66\u001b[0m \u001b[39melif\u001b[39;00m est_type\u001b[39m==\u001b[39m\u001b[39m'\u001b[39m\u001b[39maaa\u001b[39m\u001b[39m'\u001b[39m:\n\u001b[0;32m     67\u001b[0m     a_grid\u001b[39m=\u001b[39mbin_idxs\n\u001b[1;32m---> 68\u001b[0m     _, sol \u001b[39m=\u001b[39m opt_variance(eps, a_grid, q_est)\n\u001b[0;32m     69\u001b[0m     \u001b[39mif\u001b[39;00m sol\u001b[39m.\u001b[39msuccess \u001b[39m==\u001b[39m \u001b[39mTrue\u001b[39;00m:\n\u001b[0;32m     70\u001b[0m         M \u001b[39m=\u001b[39m np\u001b[39m.\u001b[39mreshape(sol\u001b[39m.\u001b[39mx,(bins,bins))\n",
      "File \u001b[1;32mc:\\Users\\feiwei\\GitHub\\OptimalFreqEstimatePy\\a3mV2.py:48\u001b[0m, in \u001b[0;36mopt_variance\u001b[1;34m(eps, x_grid, x_q)\u001b[0m\n\u001b[0;32m     46\u001b[0m \u001b[39m# limites\u001b[39;00m\n\u001b[0;32m     47\u001b[0m bounds \u001b[39m=\u001b[39m \u001b[39mlist\u001b[39m(\u001b[39mzip\u001b[39m(np\u001b[39m.\u001b[39mzeros(da\u001b[39m*\u001b[39mdx),np\u001b[39m.\u001b[39mones(da\u001b[39m*\u001b[39mdx)))\n\u001b[1;32m---> 48\u001b[0m res \u001b[39m=\u001b[39m linprog(C, A_ub\u001b[39m=\u001b[39;49mA_ub, b_ub\u001b[39m=\u001b[39;49mb_ub, A_eq \u001b[39m=\u001b[39;49m A_eq, b_eq \u001b[39m=\u001b[39;49m b_eq, bounds\u001b[39m=\u001b[39;49mbounds)\n\u001b[0;32m     50\u001b[0m \u001b[39mreturn\u001b[39;00m a_grid, res\n",
      "File \u001b[1;32mc:\\Users\\feiwei\\Anaconda3\\lib\\site-packages\\scipy\\optimize\\_linprog.py:642\u001b[0m, in \u001b[0;36mlinprog\u001b[1;34m(c, A_ub, b_ub, A_eq, b_eq, bounds, method, callback, options, x0)\u001b[0m\n\u001b[0;32m    638\u001b[0m     x, status, message, iteration \u001b[39m=\u001b[39m _linprog_simplex(\n\u001b[0;32m    639\u001b[0m         c, c0\u001b[39m=\u001b[39mc0, A\u001b[39m=\u001b[39mA, b\u001b[39m=\u001b[39mb, callback\u001b[39m=\u001b[39mcallback,\n\u001b[0;32m    640\u001b[0m         postsolve_args\u001b[39m=\u001b[39mpostsolve_args, \u001b[39m*\u001b[39m\u001b[39m*\u001b[39msolver_options)\n\u001b[0;32m    641\u001b[0m \u001b[39melif\u001b[39;00m meth \u001b[39m==\u001b[39m \u001b[39m'\u001b[39m\u001b[39minterior-point\u001b[39m\u001b[39m'\u001b[39m:\n\u001b[1;32m--> 642\u001b[0m     x, status, message, iteration \u001b[39m=\u001b[39m _linprog_ip(\n\u001b[0;32m    643\u001b[0m         c, c0\u001b[39m=\u001b[39mc0, A\u001b[39m=\u001b[39mA, b\u001b[39m=\u001b[39mb, callback\u001b[39m=\u001b[39mcallback,\n\u001b[0;32m    644\u001b[0m         postsolve_args\u001b[39m=\u001b[39mpostsolve_args, \u001b[39m*\u001b[39m\u001b[39m*\u001b[39msolver_options)\n\u001b[0;32m    645\u001b[0m \u001b[39melif\u001b[39;00m meth \u001b[39m==\u001b[39m \u001b[39m'\u001b[39m\u001b[39mrevised simplex\u001b[39m\u001b[39m'\u001b[39m:\n\u001b[0;32m    646\u001b[0m     x, status, message, iteration \u001b[39m=\u001b[39m _linprog_rs(\n\u001b[0;32m    647\u001b[0m         c, c0\u001b[39m=\u001b[39mc0, A\u001b[39m=\u001b[39mA, b\u001b[39m=\u001b[39mb, x0\u001b[39m=\u001b[39mx0, callback\u001b[39m=\u001b[39mcallback,\n\u001b[0;32m    648\u001b[0m         postsolve_args\u001b[39m=\u001b[39mpostsolve_args, \u001b[39m*\u001b[39m\u001b[39m*\u001b[39msolver_options)\n",
      "File \u001b[1;32mc:\\Users\\feiwei\\Anaconda3\\lib\\site-packages\\scipy\\optimize\\_linprog_ip.py:1119\u001b[0m, in \u001b[0;36m_linprog_ip\u001b[1;34m(c, c0, A, b, callback, postsolve_args, maxiter, tol, disp, alpha0, beta, sparse, lstsq, sym_pos, cholesky, pc, ip, permc_spec, **unknown_options)\u001b[0m\n\u001b[0;32m   1112\u001b[0m     \u001b[39mraise\u001b[39;00m \u001b[39mValueError\u001b[39;00m(\n\u001b[0;32m   1113\u001b[0m         \u001b[39m\"\u001b[39m\u001b[39mInvalid option combination \u001b[39m\u001b[39m'\u001b[39m\u001b[39msym_pos\u001b[39m\u001b[39m'\u001b[39m\u001b[39m:False \u001b[39m\u001b[39m\"\u001b[39m\n\u001b[0;32m   1114\u001b[0m         \u001b[39m\"\u001b[39m\u001b[39mand \u001b[39m\u001b[39m'\u001b[39m\u001b[39mcholesky\u001b[39m\u001b[39m'\u001b[39m\u001b[39m:True: Cholesky decomposition is only possible \u001b[39m\u001b[39m\"\u001b[39m\n\u001b[0;32m   1115\u001b[0m         \u001b[39m\"\u001b[39m\u001b[39mfor symmetric positive definite matrices.\u001b[39m\u001b[39m\"\u001b[39m)\n\u001b[0;32m   1117\u001b[0m cholesky \u001b[39m=\u001b[39m cholesky \u001b[39mor\u001b[39;00m (cholesky \u001b[39mis\u001b[39;00m \u001b[39mNone\u001b[39;00m \u001b[39mand\u001b[39;00m sym_pos \u001b[39mand\u001b[39;00m \u001b[39mnot\u001b[39;00m lstsq)\n\u001b[1;32m-> 1119\u001b[0m x, status, message, iteration \u001b[39m=\u001b[39m _ip_hsd(A, b, c, c0, alpha0, beta,\n\u001b[0;32m   1120\u001b[0m                                         maxiter, disp, tol, sparse,\n\u001b[0;32m   1121\u001b[0m                                         lstsq, sym_pos, cholesky,\n\u001b[0;32m   1122\u001b[0m                                         pc, ip, permc_spec, callback,\n\u001b[0;32m   1123\u001b[0m                                         postsolve_args)\n\u001b[0;32m   1125\u001b[0m \u001b[39mreturn\u001b[39;00m x, status, message, iteration\n",
      "File \u001b[1;32mc:\\Users\\feiwei\\Anaconda3\\lib\\site-packages\\scipy\\optimize\\_linprog_ip.py:750\u001b[0m, in \u001b[0;36m_ip_hsd\u001b[1;34m(A, b, c, c0, alpha0, beta, maxiter, disp, tol, sparse, lstsq, sym_pos, cholesky, pc, ip, permc_spec, callback, postsolve_args)\u001b[0m\n\u001b[0;32m    746\u001b[0m         \u001b[39mreturn\u001b[39;00m \u001b[39m1\u001b[39m \u001b[39m-\u001b[39m g\n\u001b[0;32m    748\u001b[0m \u001b[39mtry\u001b[39;00m:\n\u001b[0;32m    749\u001b[0m     \u001b[39m# Solve [4] 8.6 and 8.7/8.13/8.23\u001b[39;00m\n\u001b[1;32m--> 750\u001b[0m     d_x, d_y, d_z, d_tau, d_kappa \u001b[39m=\u001b[39m _get_delta(\n\u001b[0;32m    751\u001b[0m         A, b, c, x, y, z, tau, kappa, gamma, eta,\n\u001b[0;32m    752\u001b[0m         sparse, lstsq, sym_pos, cholesky, pc, ip, permc_spec)\n\u001b[0;32m    754\u001b[0m     \u001b[39mif\u001b[39;00m ip:  \u001b[39m# initial point\u001b[39;00m\n\u001b[0;32m    755\u001b[0m         \u001b[39m# [4] 4.4\u001b[39;00m\n\u001b[0;32m    756\u001b[0m         \u001b[39m# Formula after 8.23 takes a full step regardless if this will\u001b[39;00m\n\u001b[0;32m    757\u001b[0m         \u001b[39m# take it negative\u001b[39;00m\n\u001b[0;32m    758\u001b[0m         alpha \u001b[39m=\u001b[39m \u001b[39m1.0\u001b[39m\n",
      "File \u001b[1;32mc:\\Users\\feiwei\\Anaconda3\\lib\\site-packages\\scipy\\optimize\\_linprog_ip.py:214\u001b[0m, in \u001b[0;36m_get_delta\u001b[1;34m(A, b, c, x, y, z, tau, kappa, gamma, eta, sparse, lstsq, sym_pos, cholesky, pc, ip, permc_spec)\u001b[0m\n\u001b[0;32m    212\u001b[0m     M \u001b[39m=\u001b[39m A\u001b[39m.\u001b[39mdot(sps\u001b[39m.\u001b[39mdiags(Dinv, \u001b[39m0\u001b[39m, \u001b[39mformat\u001b[39m\u001b[39m=\u001b[39m\u001b[39m\"\u001b[39m\u001b[39mcsc\u001b[39m\u001b[39m\"\u001b[39m)\u001b[39m.\u001b[39mdot(A\u001b[39m.\u001b[39mT))\n\u001b[0;32m    213\u001b[0m \u001b[39melse\u001b[39;00m:\n\u001b[1;32m--> 214\u001b[0m     M \u001b[39m=\u001b[39m A\u001b[39m.\u001b[39;49mdot(Dinv\u001b[39m.\u001b[39;49mreshape(\u001b[39m-\u001b[39;49m\u001b[39m1\u001b[39;49m, \u001b[39m1\u001b[39;49m) \u001b[39m*\u001b[39;49m A\u001b[39m.\u001b[39;49mT)\n\u001b[0;32m    215\u001b[0m solve \u001b[39m=\u001b[39m _get_solver(M, sparse, lstsq, sym_pos, cholesky, permc_spec)\n\u001b[0;32m    217\u001b[0m \u001b[39m# pc: \"predictor-corrector\" [4] Section 4.1\u001b[39;00m\n\u001b[0;32m    218\u001b[0m \u001b[39m# In development this option could be turned off\u001b[39;00m\n\u001b[0;32m    219\u001b[0m \u001b[39m# but it always seems to improve performance substantially\u001b[39;00m\n",
      "\u001b[1;31mMemoryError\u001b[0m: Unable to allocate 5.46 GiB for an array with shape (27059, 27059) and data type float64"
     ]
    }
   ],
   "source": [
    "import numpy as np\n",
    "import pandas as pd\n",
    "import math\n",
    "import synthetic_generate as sg\n",
    "np.set_printoptions(precision=2)\n",
    "\n",
    "\n",
    "def main():\n",
    "    data_type=\"GAUSSIAN\" \n",
    "    d = 30\n",
    "    est_type=\"sw\"\n",
    "    repeat=50\n",
    "    repeat_est=repeat\n",
    "    ratio= 0\n",
    "    N=10000\n",
    "    low,high = -3, 3\n",
    "    # set index of bins\n",
    "    beta = 1\n",
    "    bin_width = beta/d\n",
    "    bin_idxs = np.linspace(bin_width/2, beta-bin_width/2, d)\n",
    "\n",
    "    # generate data\n",
    "    data = sg.generate_synthetic_data(data_type=data_type,\n",
    "            low=low,high=high,n=N,beta=beta)\n",
    "    histo_true,_ = np.histogram(a=data, range=(0,beta), bins=d)\n",
    "    q_true = np.reshape(histo_true/np.sum(histo_true),(1,d))\n",
    "    print(\"synthetic data generated, N=%d.\" % (data.size))\n",
    "\n",
    "    # set epsilon\n",
    "    eps_grid = np.linspace(0.5,2.5,5)\n",
    "\n",
    "    result = np.zeros((eps_grid.size, 4))\n",
    "    for i in range(len(eps_grid)):\n",
    "\n",
    "        print('\\n==== eps=%.2f, repeat=%d ====' %(eps_grid[i],repeat))\n",
    "        \n",
    "        # _,_,q_est = sg.DP_dist_estimation(histo_true=histo_true,bin_idxs=bin_idxs,\n",
    "        #     est_type=est_type,eps=eps_grid[i]*ratio, repeat=repeat_est,q_est=q_true)\n",
    "        # print('initial estimation complete, eps=%.2f' \n",
    "        #       %(eps_grid[i]*ratio))\n",
    "\n",
    "        result[i,0],result[i,1],_ = sg.DP_dist_estimation(\n",
    "            histo_true=histo_true, bin_idxs=bin_idxs,\n",
    "            est_type='aaa', eps=eps_grid[i]*(1-ratio),\n",
    "            repeat=repeat, q_est = q_true)\n",
    "        print('aaa estimation complete')\n",
    "        \n",
    "        result[i,2],result[i,3],_ = sg.DP_dist_estimation(\n",
    "            histo_true=histo_true, bin_idxs=bin_idxs,\n",
    "            est_type=est_type, eps=eps_grid[i],\n",
    "            repeat=repeat, q_est=q_true)\n",
    "        print('%s estimation complete')\n",
    "    \n",
    "    filename = 'data/result_%s_%s_%d(%.1f,%d).csv' % (data_type,\n",
    "                        est_type, d, ratio, repeat)\n",
    "    temp = {'eps_grid': eps_grid,\n",
    "        'mse_aaa': result[:, 0],\n",
    "        'wass_aaa': result[:, 1],\n",
    "        'mse_est': result[:, 2],\n",
    "        'wass_est': result[:, 3]}\n",
    "    pd.DataFrame(temp).to_csv(filename)\n",
    "    print('task complete!')\n",
    "    return temp\n",
    "\n",
    "if __name__=='__main__':\n",
    "    result = main()\n"
   ]
  }
 ],
 "metadata": {
  "kernelspec": {
   "display_name": "base",
   "language": "python",
   "name": "python3"
  },
  "language_info": {
   "codemirror_mode": {
    "name": "ipython",
    "version": 3
   },
   "file_extension": ".py",
   "mimetype": "text/x-python",
   "name": "python",
   "nbconvert_exporter": "python",
   "pygments_lexer": "ipython3",
   "version": "3.9.12"
  }
 },
 "nbformat": 4,
 "nbformat_minor": 5
}
