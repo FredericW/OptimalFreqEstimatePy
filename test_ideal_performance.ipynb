{
 "cells": [
  {
   "cell_type": "code",
   "execution_count": 8,
   "metadata": {},
   "outputs": [
    {
     "name": "stdout",
     "output_type": "stream",
     "text": [
      "synthetic data generated, N=10000.\n",
      "\n",
      "==== eps=0.50, repeat=50 ====\n",
      "initial estimation complete, eps=0.45\n",
      "aaa estimation complete, eps= 0.05\n"
     ]
    },
    {
     "name": "stderr",
     "output_type": "stream",
     "text": [
      "c:\\Users\\feiwei\\GitHub\\OptimalFreqEstimatePy\\a3mV2.py:48: OptimizeWarning: A_eq does not appear to be of full row rank. To improve performance, check the problem formulation for redundant equality constraints.\n",
      "  res = linprog(C, A_ub=A_ub, b_ub=b_ub, A_eq = A_eq, b_eq = b_eq, bounds=bounds)\n"
     ]
    },
    {
     "name": "stdout",
     "output_type": "stream",
     "text": [
      "sw estimation complete, eps=0.50\n",
      "\n",
      "==== eps=1.00, repeat=50 ====\n",
      "initial estimation complete, eps=0.90\n",
      "aaa estimation complete, eps= 0.10\n",
      "sw estimation complete, eps=1.00\n",
      "\n",
      "==== eps=1.50, repeat=50 ====\n",
      "initial estimation complete, eps=1.35\n",
      "aaa estimation complete, eps= 0.15\n",
      "sw estimation complete, eps=1.50\n",
      "\n",
      "==== eps=2.00, repeat=50 ====\n",
      "initial estimation complete, eps=1.80\n",
      "aaa estimation complete, eps= 0.20\n",
      "sw estimation complete, eps=2.00\n",
      "\n",
      "==== eps=2.50, repeat=50 ====\n",
      "initial estimation complete, eps=2.25\n",
      "aaa estimation complete, eps= 0.25\n",
      "sw estimation complete, eps=2.50\n",
      "task complete!\n"
     ]
    }
   ],
   "source": [
    "import numpy as np\n",
    "import pandas as pd\n",
    "import math\n",
    "import synthetic_generate as sg\n",
    "np.set_printoptions(precision=2)\n",
    "\n",
    "\n",
    "def main():\n",
    "    data_type=\"GAUSSIAN\" \n",
    "    d = 8\n",
    "    est_type=\"sw\"\n",
    "    repeat=50\n",
    "    repeat_est=repeat\n",
    "    ratio= 0.9\n",
    "    N=10000\n",
    "    low,high = -3, 3\n",
    "    # set index of bins\n",
    "    beta = 1\n",
    "    bin_width = beta/d\n",
    "    bin_idxs = np.linspace(bin_width/2, beta-bin_width/2, d)\n",
    "\n",
    "    # generate data\n",
    "    data = sg.generate_synthetic_data(data_type=data_type,\n",
    "            low=low,high=high,n=N,beta=beta)\n",
    "    histo_true,_ = np.histogram(a=data, range=(0,beta), bins=d)\n",
    "    q_true = np.reshape(histo_true/np.sum(histo_true),(1,d))\n",
    "    print(\"synthetic data generated, N=%d.\" % (data.size))\n",
    "\n",
    "    # set epsilon\n",
    "    eps_grid = np.linspace(0.5,2.5,5)\n",
    "\n",
    "    result = np.zeros((eps_grid.size, 4))\n",
    "    for i in range(len(eps_grid)):\n",
    "\n",
    "        print('\\n==== eps=%.2f, repeat=%d ====' %(eps_grid[i],repeat))\n",
    "        \n",
    "        _,_,q_est = sg.DP_dist_estimation(histo_true=histo_true,bin_idxs=bin_idxs,\n",
    "            est_type=est_type,eps=eps_grid[i]*ratio, repeat=repeat_est,q_est=q_true)\n",
    "        print('initial estimation complete, eps=%.2f' \n",
    "              %(eps_grid[i]*ratio))\n",
    "\n",
    "        result[i,0],result[i,1],_ = sg.DP_dist_estimation(\n",
    "            histo_true=histo_true, bin_idxs=bin_idxs,\n",
    "            est_type='aaa', eps=eps_grid[i]*(1-ratio),\n",
    "            repeat=repeat, q_est = q_est)\n",
    "        print('aaa estimation complete, eps= %.2f' \n",
    "              %(eps_grid[i]*(1-ratio)))\n",
    "        \n",
    "        result[i,2],result[i,3],_ = sg.DP_dist_estimation(\n",
    "            histo_true=histo_true, bin_idxs=bin_idxs,\n",
    "            est_type=est_type, eps=eps_grid[i],\n",
    "            repeat=repeat, q_est=q_true)\n",
    "        print('%s estimation complete, eps=%.2f' \n",
    "              %(est_type,eps_grid[i]))\n",
    "    \n",
    "    filename = 'data/result_%s_%s_%d(%.1f,%d).csv' % (data_type,\n",
    "                        est_type, d, ratio, repeat)\n",
    "    temp = {'eps_grid': eps_grid,\n",
    "        'mse_aaa': result[:, 0],\n",
    "        'wass_aaa': result[:, 1],\n",
    "        'mse_est': result[:, 2],\n",
    "        'wass_est': result[:, 3]}\n",
    "    pd.DataFrame(temp).to_csv(filename)\n",
    "    print('task complete!')\n",
    "    return temp\n",
    "\n",
    "if __name__=='__main__':\n",
    "    result = main()\n"
   ]
  }
 ],
 "metadata": {
  "kernelspec": {
   "display_name": "base",
   "language": "python",
   "name": "python3"
  },
  "language_info": {
   "codemirror_mode": {
    "name": "ipython",
    "version": 3
   },
   "file_extension": ".py",
   "mimetype": "text/x-python",
   "name": "python",
   "nbconvert_exporter": "python",
   "pygments_lexer": "ipython3",
   "version": "3.9.12"
  }
 },
 "nbformat": 4,
 "nbformat_minor": 5
}
